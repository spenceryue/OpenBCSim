{
 "cells": [
  {
   "cell_type": "code",
   "execution_count": 10,
   "metadata": {},
   "outputs": [
    {
     "name": "stdout",
     "output_type": "stream",
     "text": [
      "LinearTransducer (num_elements=550, width=0.00044, height=0.005, kerf=0, num_sub_x=1, num_sub_y=1, center_frequency=3500000.0, dtype=torch.float32, device='cuda')\n",
      "Simulator (sampling_frequency=100000000.0, decimation=10, scan_depth=0.09, speed_of_sound=1540, attenuation=0.7, transmitter=LinearTransducer (num_elements=550, width=0.00044, height=0.005, kerf=0, num_sub_x=1, num_sub_y=1, center_frequency=3500000.0, dtype=torch.float32, device='cuda'), receiver=LinearTransducer (num_elements=550, width=0.00044, height=0.005, kerf=0, num_sub_x=1, num_sub_y=1, center_frequency=3500000.0, dtype=torch.float32, device='cuda'))\n"
     ]
    }
   ],
   "source": [
    "import sys; sys.path.append ('build') # To find openbcsim module\n",
    "import torch\n",
    "import Transducer, Simulator\n",
    "import importlib as imp\n",
    "imp.reload (torch)\n",
    "imp.reload (Transducer)\n",
    "imp.reload (Simulator)\n",
    "\n",
    "tx = Transducer.LinearTransducer (550)\n",
    "sim = Simulator.Simulator (transmitter=tx)\n",
    "print (tx)\n",
    "print (sim)"
   ]
  },
  {
   "cell_type": "code",
   "execution_count": 11,
   "metadata": {},
   "outputs": [
    {
     "name": "stdout",
     "output_type": "stream",
     "text": [
      "Loading Field II scatterer data from C:\\Users\\spenc\\Desktop\\Experiments\\ftp_files\\cyst_phantom\\pht_data.mat\n",
      "Scatterer data loaded. Total # scatterers: 100,000\n"
     ]
    }
   ],
   "source": [
    "from pathlib import Path\n",
    "data_path = Path (r'C:\\Users\\spenc\\Desktop\\Experiments\\ftp_files\\cyst_phantom\\pht_data.mat')\n",
    "assert data_path.exists ()\n",
    "sim.load_field_ii_scatterers (f'{data_path}', verbose=True)"
   ]
  },
  {
   "cell_type": "code",
   "execution_count": 12,
   "metadata": {},
   "outputs": [
    {
     "name": "stdout",
     "output_type": "stream",
     "text": [
      "Output buffer elements     12,856,800      = 2 x [Time samples] x [Receiver subelements] -- `2 x` because data is complex\n",
      "Time samples               11,688         \n",
      "Transmitter subelements    550            \n",
      "Receiver subelements       550            \n",
      "Scatterer samples          100,000        \n",
      "CUDA threads               30,356,480,000  = 1024 * ceil([Scatterer samples] / 1024) x [Transmitter subelements] x [Receiver subelements]\n",
      "CUDA blocks                29,541,015      = [CUDA threads] / 1024    \n"
     ]
    }
   ],
   "source": [
    "sim.stats ();"
   ]
  },
  {
   "cell_type": "code",
   "execution_count": 13,
   "metadata": {},
   "outputs": [
    {
     "name": "stdout",
     "output_type": "stream",
     "text": [
      "244.4 seconds\n",
      "torch.Size([12856800])\n",
      "tensor([ 0.,  0.,  0.,  ...,  0.,  0.,  0.], device='cuda:0')\n"
     ]
    }
   ],
   "source": [
    "result = sim.launch ()\n",
    "print (result.shape)\n",
    "print (result)\n",
    "del result"
   ]
  },
  {
   "cell_type": "code",
   "execution_count": 17,
   "metadata": {},
   "outputs": [],
   "source": [
    "times = {\n",
    "    400: 172.6,\n",
    "    450: 196.9,\n",
    "    550: 244.4,\n",
    "    'bleh': None,\n",
    "}\n",
    "import json\n",
    "from pathlib import Path\n",
    "with Path ('times.json').open ('wt') as f:\n",
    "    json.dump (times, f)"
   ]
  }
 ],
 "metadata": {
  "kernelspec": {
   "display_name": "Python 3",
   "language": "python",
   "name": "python3"
  },
  "language_info": {
   "codemirror_mode": {
    "name": "ipython",
    "version": 3
   },
   "file_extension": ".py",
   "mimetype": "text/x-python",
   "name": "python",
   "nbconvert_exporter": "python",
   "pygments_lexer": "ipython3",
   "version": "3.6.6"
  }
 },
 "nbformat": 4,
 "nbformat_minor": 2
}
