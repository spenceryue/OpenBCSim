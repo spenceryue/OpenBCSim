{
 "cells": [
  {
   "cell_type": "code",
   "execution_count": 1,
   "metadata": {
    "ExecuteTime": {
     "end_time": "2018-07-23T06:35:21.915299Z",
     "start_time": "2018-07-23T06:35:18.515469Z"
    }
   },
   "outputs": [],
   "source": [
    "import numpy as np\n",
    "import scipy.io as spio"
   ]
  },
  {
   "cell_type": "code",
   "execution_count": 2,
   "metadata": {
    "ExecuteTime": {
     "end_time": "2018-07-23T06:35:22.856906Z",
     "start_time": "2018-07-23T06:35:22.774080Z"
    }
   },
   "outputs": [
    {
     "data": {
      "text/plain": [
       "{'__header__': b'MATLAB 5.0 MAT-file, Platform: PCWIN64, Created on: Wed Jul 11 19:52:02 2018',\n",
       " '__version__': '1.0',\n",
       " '__globals__': [],\n",
       " 'phantom_positions': array([[ 0.01573618, -0.00222605,  0.059822  ],\n",
       "        [ 0.0202896 ,  0.00122839,  0.05560369],\n",
       "        [-0.01865066, -0.00046351,  0.04396769],\n",
       "        ...,\n",
       "        [-0.015     ,  0.        ,  0.07      ],\n",
       "        [-0.015     ,  0.        ,  0.08      ],\n",
       "        [-0.015     ,  0.        ,  0.09      ]]),\n",
       " 'phantom_amplitudes': array([[ 1.6769148 ],\n",
       "        [ 1.42544227],\n",
       "        [ 0.07946215],\n",
       "        ...,\n",
       "        [20.        ],\n",
       "        [20.        ],\n",
       "        [20.        ]])}"
      ]
     },
     "execution_count": 2,
     "metadata": {},
     "output_type": "execute_result"
    }
   ],
   "source": [
    "file = r'C:\\Users\\spenc\\Desktop\\Experiments\\ftp_files\\cyst_phantom\\pht_data.mat'\n",
    "mat = spio.loadmat (file)\n",
    "mat"
   ]
  },
  {
   "cell_type": "code",
   "execution_count": 3,
   "metadata": {
    "ExecuteTime": {
     "end_time": "2018-07-23T06:35:26.428379Z",
     "start_time": "2018-07-23T06:35:26.417407Z"
    }
   },
   "outputs": [
    {
     "data": {
      "text/plain": [
       "((100000, 3), (100000, 1))"
      ]
     },
     "execution_count": 3,
     "metadata": {},
     "output_type": "execute_result"
    }
   ],
   "source": [
    "pos, amp = mat['phantom_positions'], mat['phantom_amplitudes']\n",
    "pos.shape, amp.shape"
   ]
  },
  {
   "cell_type": "code",
   "execution_count": 4,
   "metadata": {
    "ExecuteTime": {
     "end_time": "2018-07-23T06:35:27.131837Z",
     "start_time": "2018-07-23T06:35:27.115904Z"
    }
   },
   "outputs": [
    {
     "data": {
      "text/plain": [
       "((100000, 4), dtype('<f8'))"
      ]
     },
     "execution_count": 4,
     "metadata": {},
     "output_type": "execute_result"
    }
   ],
   "source": [
    "scatterers = np.concatenate ([pos, amp], axis=-1)\n",
    "scatterers.shape, scatterers.dtype"
   ]
  },
  {
   "cell_type": "code",
   "execution_count": 5,
   "metadata": {
    "ExecuteTime": {
     "end_time": "2018-07-23T06:35:30.752556Z",
     "start_time": "2018-07-23T06:35:28.630187Z"
    }
   },
   "outputs": [],
   "source": [
    "from pyrfsim import RfSimulator\n",
    "\n",
    "# Create and configure GPU simulator\n",
    "device = 'gpu'\n",
    "sim = RfSimulator (device)\n",
    "sim.set_parameter ('verbose', '1')\n",
    "sim.set_print_debug (True)"
   ]
  },
  {
   "cell_type": "code",
   "execution_count": 6,
   "metadata": {
    "ExecuteTime": {
     "end_time": "2018-07-23T06:35:42.726878Z",
     "start_time": "2018-07-23T06:35:42.709923Z"
    }
   },
   "outputs": [
    {
     "name": "stdout",
     "output_type": "stream",
     "text": [
      "__class__\n",
      "__delattr__\n",
      "__dict__\n",
      "__dir__\n",
      "__doc__\n",
      "__eq__\n",
      "__format__\n",
      "__ge__\n",
      "__getattribute__\n",
      "__gt__\n",
      "__hash__\n",
      "__init__\n",
      "__init_subclass__\n",
      "__instance_size__\n",
      "__le__\n",
      "__lt__\n",
      "__module__\n",
      "__ne__\n",
      "__new__\n",
      "__reduce__\n",
      "__reduce_ex__\n",
      "__repr__\n",
      "__setattr__\n",
      "__sizeof__\n",
      "__str__\n",
      "__subclasshook__\n",
      "__weakref__\n",
      "add_fixed_scatterers\n",
      "add_spline_scatterers\n",
      "clear_fixed_scatterers\n",
      "clear_spline_scatterers\n",
      "get_debug_data\n",
      "get_parameter\n",
      "get_total_num_scatterers\n",
      "set_analytical_beam_profile\n",
      "set_excitation\n",
      "set_lut_beam_profile\n",
      "set_parameter\n",
      "set_print_debug\n",
      "set_scan_sequence\n",
      "simulate_lines\n"
     ]
    }
   ],
   "source": [
    "from itertools import chain, groupby\n",
    "\n",
    "print (*dir (sim), sep='\\n')"
   ]
  },
  {
   "cell_type": "code",
   "execution_count": 7,
   "metadata": {
    "ExecuteTime": {
     "end_time": "2018-07-23T06:35:48.412846Z",
     "start_time": "2018-07-23T06:35:48.404862Z"
    }
   },
   "outputs": [],
   "source": [
    "# Set general simulation parameters\n",
    "sim.set_parameter ('sound_speed', '1540.0')\n",
    "sim.set_parameter ('radial_decimation', '20') # i.e. scan-direction downsampling factor\n",
    "sim.set_parameter ('phase_delay', 'on')"
   ]
  },
  {
   "cell_type": "code",
   "execution_count": 8,
   "metadata": {
    "ExecuteTime": {
     "end_time": "2018-07-23T06:35:56.510719Z",
     "start_time": "2018-07-23T06:35:56.487782Z"
    }
   },
   "outputs": [],
   "source": [
    "# Set scatterers\n",
    "use_demo1_data = use_cyst_phantom = False\n",
    "use_demo1_data = not use_cyst_phantom\n",
    "use_cyst_phantom = not use_demo1_data\n",
    "\n",
    "sim.clear_fixed_scatterers () # Make this cell idempotent\n",
    "\n",
    "if use_demo1_data:\n",
    "    num_scatterers = 16\n",
    "    scatterers_data = np.zeros ((num_scatterers, 4), dtype='float32')\n",
    "    scatterers_data[:,0] = np.linspace (-.02, 0.02, num_scatterers)\n",
    "#     scatterers_data[:,2] = np.linspace (0.01, 0.16, num_scatterers)\n",
    "    scatterers_data[:,2] = np.linspace (0.01, 0.19, num_scatterers)\n",
    "    scatterers_data[:,3] = np.ones ((num_scatterers,))\n",
    "    # scatterers_data[:,3] = np.arange (1, num_scatterers + 1)\n",
    "elif use_cyst_phantom:\n",
    "    scatterers_data = scatterers.astype ('float32')\n",
    "\n",
    "sim.add_fixed_scatterers (scatterers_data)"
   ]
  },
  {
   "cell_type": "code",
   "execution_count": null,
   "metadata": {
    "ExecuteTime": {
     "start_time": "2018-07-23T06:36:08.139Z"
    }
   },
   "outputs": [],
   "source": [
    "from scipy.signal import gausspulse\n",
    "import matplotlib.pyplot as plt\n",
    "\n",
    "# Define excitation signal\n",
    "fs = 50e6\n",
    "ts = 1.0/fs\n",
    "fc = 2.5e6\n",
    "tc = 1.0/fc\n",
    "t_vector = np.arange (-16*tc, 16*tc, ts)\n",
    "bw = 0.5\n",
    "samples = gausspulse (t_vector, bw=bw, fc=fc).astype ('float32')\n",
    "center_index = len (t_vector) // 2\n",
    "sim.set_excitation (samples, center_index, fs, fc)\n",
    "\n",
    "# Plot excitation signal\n",
    "plt.plot (t_vector, samples);\n",
    "plt.title ('Excitation signal')\n",
    "plt.xlabel ('Time [s]')\n",
    "plt.ylabel ('Exitation')\n",
    "plt.show ()"
   ]
  },
  {
   "cell_type": "code",
   "execution_count": 110,
   "metadata": {
    "ExecuteTime": {
     "end_time": "2018-07-20T23:02:43.198964Z",
     "start_time": "2018-07-20T23:02:43.191979Z"
    }
   },
   "outputs": [],
   "source": [
    "# Define a scan sequence\n",
    "num_lines = 200\n",
    "origins = np.zeros ((num_lines, 3), dtype='float32')\n",
    "origins[:,0] = np.linspace (-0.04, 0.04, num_lines)\n",
    "\n",
    "x_axis = np.array ([1.0, 0.0, 0.0])\n",
    "y_axis = np.array ([0.0, 1.0, 0.0])\n",
    "z_axis = np.array ([0.0, 0.0, 1.0])\n",
    "\n",
    "directions = np.tile (z_axis, (num_lines, 1)).astype ('float32')\n",
    "lateral_dirs = np.tile (x_axis, (num_lines, 1)).astype ('float32')\n",
    "timestamps = np.zeros ((num_lines,), dtype='float32')\n",
    "line_length = .20\n",
    "sim.set_scan_sequence (origins, directions, line_length, lateral_dirs, timestamps)"
   ]
  },
  {
   "cell_type": "code",
   "execution_count": 21,
   "metadata": {
    "ExecuteTime": {
     "end_time": "2018-07-20T17:17:15.635731Z",
     "start_time": "2018-07-20T17:17:15.619791Z"
    }
   },
   "outputs": [],
   "source": [
    "# Set the beam profile\n",
    "sigma_lateral = 1e-3\n",
    "sigma_elevational = 1e-3\n",
    "sim.set_analytical_beam_profile (sigma_lateral, sigma_elevational)"
   ]
  },
  {
   "cell_type": "code",
   "execution_count": 114,
   "metadata": {
    "ExecuteTime": {
     "end_time": "2018-07-20T23:03:38.303471Z",
     "start_time": "2018-07-20T23:03:38.266598Z"
    }
   },
   "outputs": [],
   "source": [
    "# Do the simulation : result is IQ data\n",
    "iq_lines = sim.simulate_lines ()"
   ]
  },
  {
   "cell_type": "code",
   "execution_count": 115,
   "metadata": {
    "ExecuteTime": {
     "end_time": "2018-07-20T23:03:39.812151Z",
     "start_time": "2018-07-20T23:03:39.579223Z"
    }
   },
   "outputs": [
    {
     "data": {
      "image/png": "[encoded data removed]",
      "text/plain": [
       "<Figure size 1296x648 with 2 Axes>"
      ]
     },
     "metadata": {},
     "output_type": "display_data"
    }
   ],
   "source": [
    "# Visualize results\n",
    "import sys\n",
    "sys.path.append ('..')\n",
    "from visualize import *\n",
    "\n",
    "title = 'Simple Planar Wave Simulation'\n",
    "visualize (iq_lines, title, figsize=(18, 9))"
   ]
  }
 ],
 "metadata": {
  "kernelspec": {
   "display_name": "Python 3",
   "language": "python",
   "name": "python3"
  },
  "language_info": {
   "codemirror_mode": {
    "name": "ipython",
    "version": 3
   },
   "file_extension": ".py",
   "mimetype": "text/x-python",
   "name": "python",
   "nbconvert_exporter": "python",
   "pygments_lexer": "ipython3",
   "version": "3.6.5"
  }
 },
 "nbformat": 4,
 "nbformat_minor": 2
}
